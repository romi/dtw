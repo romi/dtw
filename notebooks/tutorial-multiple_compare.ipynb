{
 "cells": [
  {
   "cell_type": "markdown",
   "id": "living-france",
   "metadata": {},
   "source": [
    "# Tutorial - Multiple comparison of sequences"
   ]
  },
  {
   "cell_type": "code",
   "execution_count": null,
   "id": "vocal-equivalent",
   "metadata": {},
   "outputs": [],
   "source": [
    "import numpy as np\n",
    "from dtw import DTW\n",
    "from dtw.dtw import brute_force_free_ends_seach\n",
    "from dtw.dtw import mixed_dist\n",
    "from dtw.visu import sequences_table\n",
    "from dtw.visu import plot_sequences\n",
    "from dtw.visu import plot_aligned_sequences"
   ]
  },
  {
   "cell_type": "code",
   "execution_count": null,
   "id": "animal-procurement",
   "metadata": {},
   "outputs": [],
   "source": [
    "ref_csv = \"/home/jonathan/Downloads/reference_sequences.csv\"\n",
    "test_csv = \"/home/jonathan/Downloads/test_sequences.csv\""
   ]
  },
  {
   "cell_type": "code",
   "execution_count": null,
   "id": "minus-royal",
   "metadata": {},
   "outputs": [],
   "source": [
    "import pandas as pd\n",
    "ref_df = pd.read_csv(ref_csv)\n",
    "test_df = pd.read_csv(test_csv)\n",
    "plant_id = \"MyPlant\""
   ]
  },
  {
   "cell_type": "code",
   "execution_count": null,
   "id": "endless-kruger",
   "metadata": {},
   "outputs": [],
   "source": [
    "ref_df[1:10]"
   ]
  },
  {
   "cell_type": "code",
   "execution_count": null,
   "id": "reserved-improvement",
   "metadata": {},
   "outputs": [],
   "source": [
    "seq_ref = np.array([ref_df[ref_df[\"PlantID\"] == plant_id][\"angles\"],\n",
    "                   ref_df[ref_df[\"PlantID\"] == plant_id][\"Internodes\"]]).T\n",
    "seq_test = np.array([test_df[test_df[\"PlantID\"] == plant_id][\"angles\"],\n",
    "                   test_df[test_df[\"PlantID\"] == plant_id][\"Internodes\"]]).T"
   ]
  },
  {
   "cell_type": "markdown",
   "id": "southwest-foundation",
   "metadata": {},
   "source": [
    "## Initialize the DTW object"
   ]
  },
  {
   "cell_type": "markdown",
   "id": "detailed-elizabeth",
   "metadata": {},
   "source": [
    "To performs this alignment, we use the \"merge-split\" constraint to account for organ under or over segmentation.\n",
    "We also use a \"mixed distance\" that we need to initialize."
   ]
  },
  {
   "cell_type": "markdown",
   "id": "arctic-process",
   "metadata": {},
   "source": [
    "### Mixed-distance initialization"
   ]
  },
  {
   "cell_type": "code",
   "execution_count": null,
   "id": "annoying-title",
   "metadata": {},
   "outputs": [],
   "source": [
    "max_ref = np.max(seq_ref[:, 1])\n",
    "max_test = np.max(seq_test[:, 1])\n",
    "# Variables associated to 'mixed-distance':\n",
    "mtype = [True, False]\n",
    "mspread = [1, max(max_ref, max_test)]\n",
    "mweight = [0.5, 0.5]"
   ]
  },
  {
   "cell_type": "markdown",
   "id": "strategic-sharing",
   "metadata": {},
   "source": [
    "### Dynamic Time Warpping algorithm"
   ]
  },
  {
   "cell_type": "code",
   "execution_count": null,
   "id": "remarkable-marriage",
   "metadata": {},
   "outputs": [],
   "source": [
    "dtw = DTW(seq_test, seq_ref, names=['inter-nodes', 'angles'], constraints='merge_split', ldist=mixed_dist,\n",
    "          mixed_type=mtype, mixed_spread=mspread, mixed_weight=mweight)"
   ]
  },
  {
   "cell_type": "code",
   "execution_count": null,
   "id": "liberal-aquatic",
   "metadata": {},
   "outputs": [],
   "source": [
    "plot_sequences(dtw)"
   ]
  },
  {
   "cell_type": "code",
   "execution_count": null,
   "id": "level-proposal",
   "metadata": {},
   "outputs": [],
   "source": []
  }
 ],
 "metadata": {
  "kernelspec": {
   "display_name": "Python 3 (ipykernel)",
   "language": "python",
   "name": "python3"
  },
  "language_info": {
   "codemirror_mode": {
    "name": "ipython",
    "version": 3
   },
   "file_extension": ".py",
   "mimetype": "text/x-python",
   "name": "python",
   "nbconvert_exporter": "python",
   "pygments_lexer": "ipython3",
   "version": "3.9.7"
  }
 },
 "nbformat": 4,
 "nbformat_minor": 5
}
