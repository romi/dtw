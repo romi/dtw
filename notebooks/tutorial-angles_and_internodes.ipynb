{
 "cells": [
  {
   "cell_type": "code",
   "execution_count": null,
   "id": "5480d88e",
   "metadata": {},
   "outputs": [],
   "source": [
    "import plotly.io as pio\n",
    "from plotly.offline import init_notebook_mode\n",
    "from plotly.offline import iplot\n",
    "init_notebook_mode(connected=True)  # initiate notebook for offline plot"
   ]
  },
  {
   "cell_type": "markdown",
   "id": "dangerous-floor",
   "metadata": {},
   "source": [
    "# Tutorial - angles and inter-nodes sequences alignement"
   ]
  },
  {
   "cell_type": "code",
   "execution_count": null,
   "id": "psychological-flush",
   "metadata": {},
   "outputs": [],
   "source": [
    "import numpy as np\n",
    "from dtw import DTW\n",
    "from dtw.tasks.search_free_ends import brute_force_free_ends_search\n",
    "from dtw.metrics import mixed_dist\n",
    "from dtw.visu import sequences_table\n",
    "from dtw.visu import plot_sequences\n",
    "from dtw.visu import plot_aligned_sequences"
   ]
  },
  {
   "cell_type": "markdown",
   "id": "union-newcastle",
   "metadata": {},
   "source": [
    "## Reference and test sequences"
   ]
  },
  {
   "cell_type": "markdown",
   "id": "northern-capture",
   "metadata": {},
   "source": [
    "These are _angles_ and _inter-nodes_ sequences measured manually and automatically (computer vision)."
   ]
  },
  {
   "cell_type": "code",
   "execution_count": null,
   "id": "appointed-optimum",
   "metadata": {},
   "outputs": [],
   "source": [
    "seq_test = np.array([[96, 163, 137, 113, 24, 170, 152, 137, 255, 148, 111, 16, 334, 160, 94, 116, 144, 132, 145], [50, 60, 48, 19, 31, 0, 37, 20, 31, 25, 7, 1, 51, 29, 26, 16, 22, 12, 23]]).T\n",
    "seq_ref = np.array([[96, 163, 137, 137, 170, 152, 137, 132, 123, 148, 127, 191, 143, 160, 94, 116, 144, 132, 145], [50, 60, 48, 50, 0, 37, 20, 0, 31, 25, 8, 27, 24, 29, 26, 16, 22, 12, 23 ]]).T"
   ]
  },
  {
   "cell_type": "markdown",
   "id": "intense-miniature",
   "metadata": {},
   "source": [
    "## Initialize the DTW object"
   ]
  },
  {
   "cell_type": "markdown",
   "id": "reduced-disclaimer",
   "metadata": {},
   "source": [
    "To performs this alignment, we use the \"merge-split\" constraint to account for organ under or over segmentation.\n",
    "We also use a \"mixed distance\" that we need to initialize."
   ]
  },
  {
   "cell_type": "markdown",
   "id": "dirty-optics",
   "metadata": {},
   "source": [
    "### Mixed-distance initialization"
   ]
  },
  {
   "cell_type": "code",
   "execution_count": null,
   "id": "found-patrol",
   "metadata": {},
   "outputs": [],
   "source": [
    "max_ref = np.max(seq_ref[:, 1])\n",
    "max_test = np.max(seq_test[:, 1])\n",
    "# Variables associated to 'mixed-distance':\n",
    "mtype = [True, False]\n",
    "mspread = [1, max(max_ref, max_test)]\n",
    "mweight = [0.5, 0.5]"
   ]
  },
  {
   "cell_type": "markdown",
   "id": "seeing-lighting",
   "metadata": {},
   "source": [
    "### Dynamic Time Warpping algorithm"
   ]
  },
  {
   "cell_type": "code",
   "execution_count": null,
   "id": "worthy-milton",
   "metadata": {},
   "outputs": [],
   "source": [
    "dtw = DTW(seq_test, seq_ref, names=['angles', 'inter-nodes'], constraints='merge_split', ldist=mixed_dist,\n",
    "          mixed_type=mtype, mixed_spread=mspread, mixed_weight=mweight)"
   ]
  },
  {
   "cell_type": "markdown",
   "id": "exclusive-pontiac",
   "metadata": {},
   "source": [
    "Using representation methods provided by the `dtw` package we can represent the two sequences in tables using the `sequences_table` method:"
   ]
  },
  {
   "cell_type": "code",
   "execution_count": null,
   "id": "green-cookbook",
   "metadata": {},
   "outputs": [],
   "source": [
    "fig = sequences_table(dtw)\n",
    "iplot(fig)"
   ]
  },
  {
   "cell_type": "markdown",
   "id": "imposed-privilege",
   "metadata": {},
   "source": [
    "We now represent the two sequences of _angles_ and _inter-nodes_ as scatter plots using the `plot_sequences` method:"
   ]
  },
  {
   "cell_type": "code",
   "execution_count": null,
   "id": "mobile-executive",
   "metadata": {},
   "outputs": [],
   "source": [
    "fig = plot_sequences(dtw)\n",
    "iplot(fig)"
   ]
  },
  {
   "cell_type": "markdown",
   "id": "democratic-projector",
   "metadata": {},
   "source": [
    "## DTW alignment"
   ]
  },
  {
   "cell_type": "markdown",
   "id": "sonic-cologne",
   "metadata": {},
   "source": [
    "### Free-ends brute force search"
   ]
  },
  {
   "cell_type": "code",
   "execution_count": null,
   "id": "incoming-andrew",
   "metadata": {},
   "outputs": [],
   "source": [
    "free_ends, norm_dist = brute_force_free_ends_search(dtw)\n",
    "print(f\"Found free-ends {free_ends} with a normalized distance of {norm_dist}.\")"
   ]
  },
  {
   "cell_type": "markdown",
   "id": "generous-penetration",
   "metadata": {},
   "source": [
    "### Alignment with selected free-ends"
   ]
  },
  {
   "cell_type": "markdown",
   "id": "widespread-winter",
   "metadata": {},
   "source": [
    "Set the free-ends values to use in `run` method:"
   ]
  },
  {
   "cell_type": "code",
   "execution_count": null,
   "id": "enormous-python",
   "metadata": {},
   "outputs": [],
   "source": [
    "dtw.free_ends = free_ends"
   ]
  },
  {
   "cell_type": "markdown",
   "id": "answering-violin",
   "metadata": {},
   "source": [
    "Let's start by running the DTW algorithm and find the best alignment with initialization."
   ]
  },
  {
   "cell_type": "code",
   "execution_count": null,
   "id": "incredible-dakota",
   "metadata": {},
   "outputs": [],
   "source": [
    "ndist, path, length, ndistarray, backpointers = dtw.run()"
   ]
  },
  {
   "cell_type": "markdown",
   "id": "ethical-pottery",
   "metadata": {},
   "source": [
    "### Summaries"
   ]
  },
  {
   "cell_type": "markdown",
   "id": "failing-citizen",
   "metadata": {},
   "source": [
    "To get the results of the alginment:"
   ]
  },
  {
   "cell_type": "code",
   "execution_count": null,
   "id": "imperial-owner",
   "metadata": {},
   "outputs": [],
   "source": [
    "rd = dtw.get_results()"
   ]
  },
  {
   "cell_type": "code",
   "execution_count": null,
   "id": "5de75783",
   "metadata": {},
   "outputs": [],
   "source": [
    "rd"
   ]
  },
  {
   "cell_type": "markdown",
   "id": "dramatic-action",
   "metadata": {},
   "source": [
    "To get the type of events predicted and their cost:"
   ]
  },
  {
   "cell_type": "code",
   "execution_count": null,
   "id": "affecting-secret",
   "metadata": {},
   "outputs": [],
   "source": [
    "print(f\"Found event types:{rd['type']}\")\n",
    "print(f\"With associated costs:{rd['cost']}\")"
   ]
  },
  {
   "cell_type": "code",
   "execution_count": null,
   "id": "indie-deployment",
   "metadata": {},
   "outputs": [],
   "source": [
    "dtw.summarize()"
   ]
  },
  {
   "cell_type": "markdown",
   "id": "fifty-russell",
   "metadata": {},
   "source": [
    "Now we can represent the aligned sequences using the `plot_aligned_sequences` method:"
   ]
  },
  {
   "cell_type": "code",
   "execution_count": null,
   "id": "blank-protest",
   "metadata": {},
   "outputs": [],
   "source": [
    "fig = plot_aligned_sequences(dtw)\n",
    "iplot(fig)"
   ]
  }
 ],
 "metadata": {
  "kernelspec": {
   "display_name": "Python 3 (ipykernel)",
   "language": "python",
   "name": "python3"
  },
  "language_info": {
   "codemirror_mode": {
    "name": "ipython",
    "version": 3
   },
   "file_extension": ".py",
   "mimetype": "text/x-python",
   "name": "python",
   "nbconvert_exporter": "python",
   "pygments_lexer": "ipython3",
   "version": "3.9.7"
  }
 },
 "nbformat": 4,
 "nbformat_minor": 5
}
