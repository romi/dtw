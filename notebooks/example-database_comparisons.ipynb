{
 "cells": [
  {
   "cell_type": "markdown",
   "id": "living-france",
   "metadata": {},
   "source": [
    "# Example - Comparison of sequences with CSV database"
   ]
  },
  {
   "cell_type": "code",
   "execution_count": null,
   "id": "vocal-equivalent",
   "metadata": {},
   "outputs": [],
   "source": [
    "import numpy as np\n",
    "import pandas as pd\n",
    "\n",
    "from dtw import DTW\n",
    "from dtw.tasks.search_free_ends import brute_force_free_ends_search\n",
    "from dtw.metrics import mixed_dist\n",
    "from dtw.visu import plot_sequences\n",
    "from dtw.visu import plot_aligned_sequences"
   ]
  },
  {
   "cell_type": "markdown",
   "id": "22461a4a",
   "metadata": {},
   "source": [
    "Load the test dataset in `DB_eval_v1`:"
   ]
  },
  {
   "cell_type": "code",
   "execution_count": null,
   "id": "03497578",
   "metadata": {
    "pycharm": {
     "name": "#%%\n"
    }
   },
   "outputs": [],
   "source": [
    "from dtw.util import default_test_db\n",
    "gt_csv, pred_csv = default_test_db()"
   ]
  },
  {
   "cell_type": "code",
   "execution_count": null,
   "id": "79f4e602",
   "metadata": {
    "pycharm": {
     "name": "#%%\n"
    }
   },
   "outputs": [],
   "source": [
    "gt_df = pd.read_csv(gt_csv)\n",
    "pred_df = pd.read_csv(pred_csv)"
   ]
  },
  {
   "cell_type": "code",
   "execution_count": null,
   "id": "endless-kruger",
   "metadata": {},
   "outputs": [],
   "source": [
    "gt_df"
   ]
  },
  {
   "cell_type": "code",
   "execution_count": null,
   "id": "28798d89",
   "metadata": {},
   "outputs": [],
   "source": [
    "print(gt_df[\"PlantID\"].unique())  # list the available \"PlantID\""
   ]
  },
  {
   "cell_type": "code",
   "execution_count": null,
   "id": "744c41ae",
   "metadata": {},
   "outputs": [],
   "source": [
    "plant_id = \"Col0_12_10_2018_A\"  # select one for alignment and comparison"
   ]
  },
  {
   "cell_type": "code",
   "execution_count": null,
   "id": "reserved-improvement",
   "metadata": {},
   "outputs": [],
   "source": [
    "seq_ref = np.array([gt_df[gt_df[\"PlantID\"] == plant_id][\"angles\"],\n",
    "                   gt_df[gt_df[\"PlantID\"] == plant_id][\"Internodes\"]]).T\n",
    "seq_test = np.array([pred_df[pred_df[\"PlantID\"] == plant_id][\"angles\"],\n",
    "                   pred_df[pred_df[\"PlantID\"] == plant_id][\"Internodes\"]]).T"
   ]
  },
  {
   "cell_type": "markdown",
   "id": "southwest-foundation",
   "metadata": {},
   "source": [
    "## Initialize the DTW object"
   ]
  },
  {
   "cell_type": "markdown",
   "id": "detailed-elizabeth",
   "metadata": {},
   "source": [
    "To performs this alignment, we use the \"merge-split\" constraint to account for organ under or over segmentation.\n",
    "We also use a \"mixed distance\" that we need to initialize."
   ]
  },
  {
   "cell_type": "markdown",
   "id": "arctic-process",
   "metadata": {},
   "source": [
    "### Mixed-distance initialization"
   ]
  },
  {
   "cell_type": "code",
   "execution_count": null,
   "id": "annoying-title",
   "metadata": {},
   "outputs": [],
   "source": [
    "max_ref = np.max(seq_ref[:, 1])\n",
    "max_test = np.max(seq_test[:, 1])\n",
    "# Variables associated to 'mixed-distance':\n",
    "mtype = [True, False]\n",
    "mspread = [1, max(max_ref, max_test)]\n",
    "mweight = [0.5, 0.5]"
   ]
  },
  {
   "cell_type": "markdown",
   "id": "strategic-sharing",
   "metadata": {},
   "source": [
    "### Dynamic Time Warpping algorithm"
   ]
  },
  {
   "cell_type": "code",
   "execution_count": null,
   "id": "remarkable-marriage",
   "metadata": {},
   "outputs": [],
   "source": [
    "dtw = DTW(seq_test, seq_ref, names=['angles'], constraints='merge_split', ldist=mixed_dist,\n",
    "          mixed_type=mtype, mixed_spread=mspread, mixed_weight=mweight)"
   ]
  },
  {
   "cell_type": "code",
   "execution_count": null,
   "id": "d6643d6b",
   "metadata": {},
   "outputs": [],
   "source": [
    "plot_sequences(dtw)"
   ]
  },
  {
   "cell_type": "markdown",
   "id": "676c4289",
   "metadata": {},
   "source": [
    "### Free-ends brute force search"
   ]
  },
  {
   "cell_type": "code",
   "execution_count": null,
   "id": "11e1ee39",
   "metadata": {},
   "outputs": [],
   "source": [
    "free_ends, norm_dist = brute_force_free_ends_search(dtw)\n",
    "print(f\"Found free-ends {free_ends} with a normalized distance of {norm_dist}.\")"
   ]
  },
  {
   "cell_type": "markdown",
   "id": "2866ed9d",
   "metadata": {},
   "source": [
    "### Alignment with selected free-ends"
   ]
  },
  {
   "cell_type": "markdown",
   "id": "9541d0c7",
   "metadata": {},
   "source": [
    "Set the free-ends values to use in `run` method:"
   ]
  },
  {
   "cell_type": "code",
   "execution_count": null,
   "id": "8b892cf0",
   "metadata": {},
   "outputs": [],
   "source": [
    "dtw.free_ends = free_ends"
   ]
  },
  {
   "cell_type": "code",
   "execution_count": null,
   "id": "54bdf110",
   "metadata": {},
   "outputs": [],
   "source": [
    "ndist, path, length, ndistarray, backpointers = dtw.run()"
   ]
  },
  {
   "cell_type": "code",
   "execution_count": null,
   "id": "39ae69f0",
   "metadata": {},
   "outputs": [],
   "source": [
    "dtw.summarize()"
   ]
  },
  {
   "cell_type": "markdown",
   "id": "f2cd5a98",
   "metadata": {},
   "source": [
    "Now we can represent the aligned sequences using the `plot_aligned_sequences` method:"
   ]
  },
  {
   "cell_type": "code",
   "execution_count": null,
   "id": "edbcc443",
   "metadata": {},
   "outputs": [],
   "source": [
    "plot_aligned_sequences(dtw)"
   ]
  },
  {
   "cell_type": "code",
   "execution_count": null,
   "id": "a7dfaf6c",
   "metadata": {},
   "outputs": [],
   "source": []
  }
 ],
 "metadata": {
  "kernelspec": {
   "display_name": "Python 3 (ipykernel)",
   "language": "python",
   "name": "python3"
  },
  "language_info": {
   "codemirror_mode": {
    "name": "ipython",
    "version": 3
   },
   "file_extension": ".py",
   "mimetype": "text/x-python",
   "name": "python",
   "nbconvert_exporter": "python",
   "pygments_lexer": "ipython3",
   "version": "3.9.7"
  }
 },
 "nbformat": 4,
 "nbformat_minor": 5
}
